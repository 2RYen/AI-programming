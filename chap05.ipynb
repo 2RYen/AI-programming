{
  "nbformat": 4,
  "nbformat_minor": 0,
  "metadata": {
    "colab": {
      "provenance": []
    },
    "kernelspec": {
      "name": "python3",
      "display_name": "Python 3"
    },
    "language_info": {
      "name": "python"
    }
  },
  "cells": [
    {
      "cell_type": "code",
      "execution_count": null,
      "metadata": {
        "colab": {
          "base_uri": "https://localhost:8080/"
        },
        "id": "cTDuYL16LWmP",
        "outputId": "e4f572f4-16e1-4d80-ebbe-f1fee3bcda9c"
      },
      "outputs": [
        {
          "output_type": "stream",
          "name": "stdout",
          "text": [
            "0\n",
            "0\n",
            "0\n",
            "1\n"
          ]
        }
      ],
      "source": [
        "epsilon = 0.0000001\n",
        "\n",
        "def perceptron(x1, x2):\n",
        "    w1, w2, b = 1.0, 1.0, -1.5\n",
        "    sum = x1*w1+x2*w2+b\n",
        "    if sum > epsilon :\t\t# 부동소수점 오차를 방지하기 위하여\n",
        "        return 1\n",
        "    else :\n",
        "        return 0\n",
        "\n",
        "print(perceptron(0, 0))\n",
        "print(perceptron(1, 0))\n",
        "print(perceptron(0, 1))\n",
        "print(perceptron(1, 1))"
      ]
    },
    {
      "cell_type": "code",
      "source": [
        "import numpy as np\n",
        "epsilon = 0.0000001\n",
        "\n",
        "def perceptron(x1, x2):\n",
        "    X = np.array([x1, x2])\n",
        "    W = np.array([1.0, 1.0])\n",
        "    B = -1.5\n",
        "    sum = np.dot(W, X)+B\n",
        "    if sum > epsilon :\n",
        "        return 1\n",
        "    else :\n",
        "        return 0\n",
        "\n",
        "print(perceptron(0, 0))\n",
        "print(perceptron(1, 0))\n",
        "print(perceptron(0, 1))\n",
        "print(perceptron(1, 1))"
      ],
      "metadata": {
        "colab": {
          "base_uri": "https://localhost:8080/"
        },
        "id": "bcx8ejW7LXO6",
        "outputId": "1bd2581a-26d8-48f6-dd3c-9dca76eb8c4d"
      },
      "execution_count": null,
      "outputs": [
        {
          "output_type": "stream",
          "name": "stdout",
          "text": [
            "0\n",
            "0\n",
            "0\n",
            "1\n"
          ]
        }
      ]
    },
    {
      "cell_type": "code",
      "source": [
        "import numpy as np\n",
        "\n",
        "epsilon = 0.0000001\t\t# 부동소수점 오차 방지\n",
        "\n",
        "def step_func(t):\t\t# 퍼셉트론의 활성화 함수\n",
        "    if t > epsilon: return 1\n",
        "    else: return 0\n",
        "\n",
        "X = np.array([\t\t\t# 훈련 데이터 세트\n",
        "    [0, 0, 1],\t\t\t# 맨 끝의 1은 바이어스를 위한 입력 신호 1이다.\n",
        "    [0, 1, 1],\t\t\t# 맨 끝의 1은 바이어스를 위한 입력 신호 1이다.\n",
        "    [1, 0, 1],\t\t\t# 맨 끝의 1은 바이어스를 위한 입력 신호 1이다.\n",
        "    [1, 1, 1]\t\t\t# 맨 끝의 1은 바이어스를 위한 입력 신호 1이다.\n",
        "])\n",
        "\n",
        "y = np.array([0, 0, 0, 1])\t# 정답을 저장하는 넘파이 행렬\n",
        "W = np.zeros(len(X[0]))\t# 가중치를 저장하는 넘파이 행렬\n",
        "\n",
        "def perceptron_fit(X, Y, epochs=10):\t# 퍼셉트론 학습 알고리즘 구현\n",
        "    global W\n",
        "    eta = 0.2\t\t\t\t# 학습률\n",
        "\n",
        "    for t in range(epochs):\n",
        "        print(\"epoch=\", t, \"======================\")\n",
        "        for i in range(len(X)):\n",
        "            predict = step_func(np.dot(X[i], W))\n",
        "            error = Y[i] - predict\t\t# 오차 계산\n",
        "            W += eta * error * X[i]\t\t# 가중치 업데이트\n",
        "            print(\"현재 처리 입력=\",X[i],\"정답=\",Y[i],\"출력=\",predict,\"변경된 가중치=\", W)\n",
        "        print(\"================================\")\n",
        "\n",
        "def perceptron_predict(X, Y):\t\t# 예측\n",
        "    global W\n",
        "    for x in X:\n",
        "         print(x[0], x[1], \"->\", step_func(np.dot(x, W)))\n",
        "\n",
        "perceptron_fit(X, y, 6)\n",
        "perceptron_predict(X, y)"
      ],
      "metadata": {
        "colab": {
          "base_uri": "https://localhost:8080/"
        },
        "id": "RZf7lyKfLcwA",
        "outputId": "9ba6a055-8263-42db-acd2-7566ecfa36de"
      },
      "execution_count": null,
      "outputs": [
        {
          "output_type": "stream",
          "name": "stdout",
          "text": [
            "epoch= 0 ======================\n",
            "현재 처리 입력= [0 0 1] 정답= 0 출력= 0 변경된 가중치= [0. 0. 0.]\n",
            "현재 처리 입력= [0 1 1] 정답= 0 출력= 0 변경된 가중치= [0. 0. 0.]\n",
            "현재 처리 입력= [1 0 1] 정답= 0 출력= 0 변경된 가중치= [0. 0. 0.]\n",
            "현재 처리 입력= [1 1 1] 정답= 1 출력= 0 변경된 가중치= [0.2 0.2 0.2]\n",
            "================================\n",
            "epoch= 1 ======================\n",
            "현재 처리 입력= [0 0 1] 정답= 0 출력= 1 변경된 가중치= [0.2 0.2 0. ]\n",
            "현재 처리 입력= [0 1 1] 정답= 0 출력= 1 변경된 가중치= [ 0.2  0.  -0.2]\n",
            "현재 처리 입력= [1 0 1] 정답= 0 출력= 0 변경된 가중치= [ 0.2  0.  -0.2]\n",
            "현재 처리 입력= [1 1 1] 정답= 1 출력= 0 변경된 가중치= [0.4 0.2 0. ]\n",
            "================================\n",
            "epoch= 2 ======================\n",
            "현재 처리 입력= [0 0 1] 정답= 0 출력= 0 변경된 가중치= [0.4 0.2 0. ]\n",
            "현재 처리 입력= [0 1 1] 정답= 0 출력= 1 변경된 가중치= [ 0.4  0.  -0.2]\n",
            "현재 처리 입력= [1 0 1] 정답= 0 출력= 1 변경된 가중치= [ 0.2  0.  -0.4]\n",
            "현재 처리 입력= [1 1 1] 정답= 1 출력= 0 변경된 가중치= [ 0.4  0.2 -0.2]\n",
            "================================\n",
            "epoch= 3 ======================\n",
            "현재 처리 입력= [0 0 1] 정답= 0 출력= 0 변경된 가중치= [ 0.4  0.2 -0.2]\n",
            "현재 처리 입력= [0 1 1] 정답= 0 출력= 0 변경된 가중치= [ 0.4  0.2 -0.2]\n",
            "현재 처리 입력= [1 0 1] 정답= 0 출력= 1 변경된 가중치= [ 0.2  0.2 -0.4]\n",
            "현재 처리 입력= [1 1 1] 정답= 1 출력= 0 변경된 가중치= [ 0.4  0.4 -0.2]\n",
            "================================\n",
            "epoch= 4 ======================\n",
            "현재 처리 입력= [0 0 1] 정답= 0 출력= 0 변경된 가중치= [ 0.4  0.4 -0.2]\n",
            "현재 처리 입력= [0 1 1] 정답= 0 출력= 1 변경된 가중치= [ 0.4  0.2 -0.4]\n",
            "현재 처리 입력= [1 0 1] 정답= 0 출력= 0 변경된 가중치= [ 0.4  0.2 -0.4]\n",
            "현재 처리 입력= [1 1 1] 정답= 1 출력= 1 변경된 가중치= [ 0.4  0.2 -0.4]\n",
            "================================\n",
            "epoch= 5 ======================\n",
            "현재 처리 입력= [0 0 1] 정답= 0 출력= 0 변경된 가중치= [ 0.4  0.2 -0.4]\n",
            "현재 처리 입력= [0 1 1] 정답= 0 출력= 0 변경된 가중치= [ 0.4  0.2 -0.4]\n",
            "현재 처리 입력= [1 0 1] 정답= 0 출력= 0 변경된 가중치= [ 0.4  0.2 -0.4]\n",
            "현재 처리 입력= [1 1 1] 정답= 1 출력= 1 변경된 가중치= [ 0.4  0.2 -0.4]\n",
            "================================\n",
            "0 0 -> 0\n",
            "0 1 -> 0\n",
            "1 0 -> 0\n",
            "1 1 -> 1\n"
          ]
        }
      ]
    },
    {
      "cell_type": "code",
      "source": [
        "from sklearn.linear_model import Perceptron\n",
        "\n",
        "# 논리적 AND 연산 샘플과 정답이다.\n",
        "X = [[0,0],[0,1],[1,0],[1,1]]\t\t# 항상 2차원 배열이어야 한다.\n",
        "y = [0, 0, 0, 1]\n",
        "\n",
        "# 퍼셉트론을 생성한다. tol는 종료 조건이다. random_state는 난수의 시드이다.\n",
        "clf = Perceptron(tol=1e-3, random_state=0)\n",
        "\n",
        "# 학습을 수행한다.\n",
        "clf.fit(X, y)\n",
        "\n",
        "# 테스트를 수행한다.\n",
        "print(clf.predict(X))"
      ],
      "metadata": {
        "colab": {
          "base_uri": "https://localhost:8080/"
        },
        "id": "zzQaLyqGLgJK",
        "outputId": "5c749f07-6971-4f72-d4a0-c823a0f956d0"
      },
      "execution_count": null,
      "outputs": [
        {
          "output_type": "stream",
          "name": "stdout",
          "text": [
            "[0 0 0 1]\n"
          ]
        }
      ]
    },
    {
      "cell_type": "code",
      "source": [
        "from matplotlib import pyplot as plt\n",
        "from sklearn.datasets import make_blobs\n",
        "from sklearn.linear_model import Perceptron\n",
        "import numpy as np\n",
        "\n",
        "# 퍼셉트론을 생성한다. tol는 종료 조건이다. random_state는 난수의 시드이다.\n",
        "clf = Perceptron(tol=1e-3, random_state=0)\n",
        "\n",
        "# 뭉쳐진 데이터를 만든다. 샘플의 개수는 총 100개, 클러스터의 개수는 2개이다.\n",
        "X, y = make_blobs(n_samples=100, centers=2)\n",
        "clf.fit(X, y)\n",
        "\n",
        "from sklearn.metrics import accuracy_score\n",
        "print(accuracy_score(clf.predict(X), y))\n",
        "\n",
        "# 데이터를 그래프 위에 표시한다.\n",
        "plt.scatter(X[:, 0], X[:, 1], c=y, s=100)\n",
        "plt.xlabel(\"x1\")\n",
        "plt.ylabel(\"x2\")\n",
        "\n",
        "# 데이터에서 최소 좌표와 최대 좌표를 계산한다.\n",
        "x_min, x_max = X[:, 0].min() - 1, X[:, 0].max() + 1\n",
        "y_min, y_max = X[:, 1].min() - 1, X[:, 1].max() + 1\n",
        "\n",
        "# 0.1 간격으로 메쉬 그리드 좌표를 만든다.\n",
        "xx, yy = np.meshgrid(np.arange(x_min, x_max, 0.1), np.arange(y_min, y_max, 0.1))\n",
        "\n",
        "# 메쉬 그리드 데이터에 대하여 예측을 한다.\n",
        "Z = clf.predict(np.c_[xx.ravel(), yy.ravel()]).reshape(xx.shape)\n",
        "\n",
        "# 컨투어를 그린다.\n",
        "plt.contourf(xx, yy, Z, alpha=0.4)\n",
        "plt.show()"
      ],
      "metadata": {
        "colab": {
          "base_uri": "https://localhost:8080/",
          "height": 466
        },
        "id": "X5JjswACLk6x",
        "outputId": "29007b2e-ca5d-4eeb-cee0-e58a89b341b8"
      },
      "execution_count": null,
      "outputs": [
        {
          "output_type": "stream",
          "name": "stdout",
          "text": [
            "1.0\n"
          ]
        },
        {
          "output_type": "display_data",
          "data": {
            "text/plain": [
              "<Figure size 640x480 with 1 Axes>"
            ],
            "image/png": "[encoded data removed]"
          },
          "metadata": {}
        }
      ]
    },
    {
      "cell_type": "code",
      "source": [
        "import numpy as np\n",
        "\n",
        "epsilon = 0.0000001\t\t# 부동소수점 오차 방지\n",
        "\n",
        "def step_func(t):\t\t# 퍼셉트론의 활성화 함수\n",
        "    if t > epsilon: return 1\n",
        "    else: return 0\n",
        "\n",
        "# XOR 연산 학습 데이터 세트\n",
        "X = np.array([\t\t\t# 훈련 데이터 세트\n",
        "    [0, 0, 1],\t\t\t# 맨 끝의 1은 바이어스를 위한 입력 신호 1이다.\n",
        "    [0, 1, 1],\t\t\t# 맨 끝의 1은 바이어스를 위한 입력 신호 1이다.\n",
        "    [1, 0, 1],\t\t\t# 맨 끝의 1은 바이어스를 위한 입력 신호 1이다.\n",
        "    [1, 1, 1]\t\t\t# 맨 끝의 1은 바이어스를 위한 입력 신호 1이다.\n",
        "])\n",
        "\n",
        "y = np.array([0, 1, 1, 0])\n",
        "W = np.zeros(len(X[0]))\t# 가중치를 저장하는 넘파이 행렬\n",
        "\n",
        "def perceptron_fit(X, Y, epochs=10):\t# 퍼셉트론 학습 알고리즘 구현\n",
        "    global W\n",
        "    eta = 0.2\t\t\t\t# 학습률\n",
        "\n",
        "    for t in range(epochs):\n",
        "        print(\"epoch=\", t, \"======================\")\n",
        "        for i in range(len(X)):\n",
        "            predict = step_func(np.dot(X[i], W))\n",
        "            error = Y[i] - predict\t\t# 오차 계산\n",
        "            W += eta * error * X[i]\t\t# 가중치 업데이트\n",
        "            print(\"현재 처리 입력=\",X[i],\"정답=\",Y[i],\"출력=\",predict,\"변경된 가중치=\", W)\n",
        "        print(\"================================\")\n",
        "\n",
        "def perceptron_predict(X, Y):\t\t# 예측\n",
        "    global W\n",
        "    for x in X:\n",
        "         print(x[0], x[1], \"->\", step_func(np.dot(x, W)))\n",
        "\n",
        "perceptron_fit(X, y, 6)\n",
        "perceptron_predict(X, y)"
      ],
      "metadata": {
        "colab": {
          "base_uri": "https://localhost:8080/"
        },
        "id": "5vi6BRNVLnSh",
        "outputId": "71ad66ae-85ac-4b6b-db9b-da1dd4eebdcb"
      },
      "execution_count": null,
      "outputs": [
        {
          "output_type": "stream",
          "name": "stdout",
          "text": [
            "epoch= 0 ======================\n",
            "현재 처리 입력= [0 0 1] 정답= 0 출력= 0 변경된 가중치= [0. 0. 0.]\n",
            "현재 처리 입력= [0 1 1] 정답= 1 출력= 0 변경된 가중치= [0.  0.2 0.2]\n",
            "현재 처리 입력= [1 0 1] 정답= 1 출력= 1 변경된 가중치= [0.  0.2 0.2]\n",
            "현재 처리 입력= [1 1 1] 정답= 0 출력= 1 변경된 가중치= [-0.2  0.   0. ]\n",
            "================================\n",
            "epoch= 1 ======================\n",
            "현재 처리 입력= [0 0 1] 정답= 0 출력= 0 변경된 가중치= [-0.2  0.   0. ]\n",
            "현재 처리 입력= [0 1 1] 정답= 1 출력= 0 변경된 가중치= [-0.2  0.2  0.2]\n",
            "현재 처리 입력= [1 0 1] 정답= 1 출력= 0 변경된 가중치= [0.  0.2 0.4]\n",
            "현재 처리 입력= [1 1 1] 정답= 0 출력= 1 변경된 가중치= [-0.2  0.   0.2]\n",
            "================================\n",
            "epoch= 2 ======================\n",
            "현재 처리 입력= [0 0 1] 정답= 0 출력= 1 변경된 가중치= [-0.2  0.   0. ]\n",
            "현재 처리 입력= [0 1 1] 정답= 1 출력= 0 변경된 가중치= [-0.2  0.2  0.2]\n",
            "현재 처리 입력= [1 0 1] 정답= 1 출력= 0 변경된 가중치= [0.  0.2 0.4]\n",
            "현재 처리 입력= [1 1 1] 정답= 0 출력= 1 변경된 가중치= [-0.2  0.   0.2]\n",
            "================================\n",
            "epoch= 3 ======================\n",
            "현재 처리 입력= [0 0 1] 정답= 0 출력= 1 변경된 가중치= [-0.2  0.   0. ]\n",
            "현재 처리 입력= [0 1 1] 정답= 1 출력= 0 변경된 가중치= [-0.2  0.2  0.2]\n",
            "현재 처리 입력= [1 0 1] 정답= 1 출력= 0 변경된 가중치= [0.  0.2 0.4]\n",
            "현재 처리 입력= [1 1 1] 정답= 0 출력= 1 변경된 가중치= [-0.2  0.   0.2]\n",
            "================================\n",
            "epoch= 4 ======================\n",
            "현재 처리 입력= [0 0 1] 정답= 0 출력= 1 변경된 가중치= [-0.2  0.   0. ]\n",
            "현재 처리 입력= [0 1 1] 정답= 1 출력= 0 변경된 가중치= [-0.2  0.2  0.2]\n",
            "현재 처리 입력= [1 0 1] 정답= 1 출력= 0 변경된 가중치= [0.  0.2 0.4]\n",
            "현재 처리 입력= [1 1 1] 정답= 0 출력= 1 변경된 가중치= [-0.2  0.   0.2]\n",
            "================================\n",
            "epoch= 5 ======================\n",
            "현재 처리 입력= [0 0 1] 정답= 0 출력= 1 변경된 가중치= [-0.2  0.   0. ]\n",
            "현재 처리 입력= [0 1 1] 정답= 1 출력= 0 변경된 가중치= [-0.2  0.2  0.2]\n",
            "현재 처리 입력= [1 0 1] 정답= 1 출력= 0 변경된 가중치= [0.  0.2 0.4]\n",
            "현재 처리 입력= [1 1 1] 정답= 0 출력= 1 변경된 가중치= [-0.2  0.   0.2]\n",
            "================================\n",
            "0 0 -> 1\n",
            "0 1 -> 1\n",
            "1 0 -> 0\n",
            "1 1 -> 0\n"
          ]
        }
      ]
    }
  ]
}