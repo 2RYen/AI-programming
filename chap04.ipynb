{
  "nbformat": 4,
  "nbformat_minor": 0,
  "metadata": {
    "colab": {
      "provenance": []
    },
    "kernelspec": {
      "name": "python3",
      "display_name": "Python 3"
    },
    "language_info": {
      "name": "python"
    }
  },
  "cells": [
    {
      "cell_type": "code",
      "execution_count": null,
      "metadata": {
        "id": "R9U_hdlgdKp-"
      },
      "outputs": [],
      "source": [
        "import numpy as np\n",
        "import matplotlib.pyplot as plt\n",
        "\n",
        "X = np.array([0.0, 1.0, 2.0])\n",
        "y = np.array([3.0, 3.5, 5.5])\n",
        "\n",
        "w = 0       # 기울기\n",
        "b = 0       # 절편\n",
        "\n",
        "lrate = 0.01  # 학습률\n",
        "epochs = 1000  # 반복 횟수\n",
        "\n",
        "n = float(len(X)) # 입력 데이터의 개수\n"
      ]
    },
    {
      "cell_type": "code",
      "source": [
        "# 경사 하강법\n",
        "for i in range(epochs):\n",
        "    y_pred = w*X + b  \t\t\t# 선형 회귀 예측값\n",
        "    dw = (2/n) * sum(X * (y_pred-y)) \t# 넘파이 배열간의 산술 계산은 요소별로 적용\n",
        "    db = (2/n) * sum(y_pred-y)  \t# sum()은 모든 요소들의 합을 계산하는 내장 함수\n",
        "    w = w - lrate * dw  \t\t# 기울기 수정\n",
        "    b = b - lrate * db  \t\t# 절편 수정\n",
        "\n"
      ],
      "metadata": {
        "id": "o-qfeL60deym"
      },
      "execution_count": null,
      "outputs": []
    },
    {
      "cell_type": "code",
      "source": [
        "# 기울기와 절편을 출력한다.\n",
        "print (w, b)\n"
      ],
      "metadata": {
        "id": "O0fU4BWKdrOY"
      },
      "execution_count": null,
      "outputs": []
    },
    {
      "cell_type": "code",
      "source": [
        "# 예측값을 만든다.\n",
        "y_pred = w*X + b\n"
      ],
      "metadata": {
        "id": "u-N1_Xi8dsQS"
      },
      "execution_count": null,
      "outputs": []
    },
    {
      "cell_type": "code",
      "source": [
        "# 입력 데이터를 그래프 상에 찍는다.\n",
        "plt.scatter(X, y)\n",
        "\n"
      ],
      "metadata": {
        "id": "qo7551MNdt0P"
      },
      "execution_count": null,
      "outputs": []
    },
    {
      "cell_type": "code",
      "source": [
        "# 예측값은 선그래프로 그린다.\n",
        "plt.plot([min(X), max(X)], [min(y_pred), max(y_pred)], color='red')\n",
        "plt.show()"
      ],
      "metadata": {
        "id": "XFINVovsduoL"
      },
      "execution_count": null,
      "outputs": []
    },
    {
      "cell_type": "code",
      "source": [
        "import matplotlib.pylab as plt\n",
        "from sklearn import linear_model\n",
        "\n",
        "# 선형 회귀 모델을 생성한다.\n",
        "reg = linear_model.LinearRegression()\n",
        "\n",
        "# 데이터는 파이썬의 리스트로 만들어도 되고 아니면 넘파이의 배열로 만들어도 됨\n",
        "X = [[0], [1], [2]]\t\t# 반드시 2차원으로 만들어야 함\n",
        "y = [3, 3.5, 5.5]\t\t# y = x + 3\n",
        "\n",
        "# 학습을 시킨다.\n",
        "reg.fit(X, y)\n"
      ],
      "metadata": {
        "id": "ZSvdwjw3dxPo"
      },
      "execution_count": null,
      "outputs": []
    },
    {
      "cell_type": "code",
      "source": [
        "\n",
        "print(reg.coef_)\t\t# 직선의 기울기\n",
        "print(reg.intercept_) \t# 직선의 y-절편\n",
        "print(reg.score(X, y))\n",
        "\n",
        "print(reg.predict([[5]]))\n",
        "\n"
      ],
      "metadata": {
        "id": "MUURZeT5d7UL"
      },
      "execution_count": null,
      "outputs": []
    },
    {
      "cell_type": "code",
      "source": [
        "# 학습 데이터와 y 값을 산포도로 그린다.\n",
        "plt.scatter(X, y, color='black')\n",
        "\n",
        "# 학습 데이터를 입력으로 하여 예측값을 계산한다.\n",
        "y_pred = reg.predict(X)\n",
        "\n",
        "# 학습 데이터와 예측값으로 선그래프로 그린다.\n",
        "# 계산된 기울기와 y 절편을 가지는 직선이 그려진다.\n",
        "plt.plot(X, y_pred, color='blue', linewidth=3)\n",
        "plt.show()\n"
      ],
      "metadata": {
        "id": "WgH2uQFueDQx"
      },
      "execution_count": null,
      "outputs": []
    },
    {
      "cell_type": "code",
      "source": [
        "import matplotlib.pylab as plt\n",
        "from sklearn import linear_model\n",
        "\n",
        "reg = linear_model.LinearRegression()\n",
        "\n",
        "X = [[174], [152], [138], [128], [186]]\n",
        "y = [71, 55, 46, 38, 88]\n",
        "\n",
        "reg.fit(X, y)\t\t\t# 학습\n",
        "\n",
        "print(reg.predict([[165]]))\n",
        "\n",
        "# 학습 데이터와 y 값을 산포도로 그린다.\n",
        "plt.scatter(X, y, color='black')\n",
        "\n",
        "# 학습 데이터를 입력으로 하여 예측값을 계산한다.\n",
        "y_pred = reg.predict(X)\n",
        "\n",
        "# 학습 데이터와 예측값으로 선그래프로 그린다.\n",
        "# 계산된 기울기와 y 절편을 가지는 직선이 그려진다.\n",
        "plt.plot(X, y_pred, color='blue', linewidth=3)\n",
        "plt.show()"
      ],
      "metadata": {
        "id": "P7mnzHjGeNH2"
      },
      "execution_count": null,
      "outputs": []
    },
    {
      "cell_type": "code",
      "source": [
        "import matplotlib.pylab as plt\n",
        "import numpy as np\n",
        "from sklearn.linear_model import LinearRegression\n",
        "from sklearn import datasets, linear_model\n",
        "\n",
        "# 당뇨병 데이터 세트를 적재한다.\n",
        "diabetes_X, diabetes_y = datasets.load_diabetes(return_X_y=True)\n",
        "\n",
        "print(diabetes_X.data.shape )\n",
        "# 하나의 특징(BMI)만 추려내서 2차원 배열로 만든다. BMI 특징의 인덱스가 2이다.\n",
        "diabetes_X_new = diabetes_X[:, np.newaxis, 2]\n",
        "print(diabetes_X_new.data.shape )\n",
        "\n",
        "# 학습 데이터와 테스트 데이터를 분리한다.\n",
        "from sklearn.model_selection import train_test_split\n",
        "X_train, X_test, y_train, y_test = train_test_split(diabetes_X_new, diabetes_y, test_size=0.1, random_state=0)\n",
        "\n",
        "regr = linear_model.LinearRegression()\n",
        "regr.fit(X_train, y_train)\n",
        "\n",
        "# 테스트 데이터로 예측해보자.\n",
        "y_pred = regr.predict(X_test)\n",
        "\n",
        "# 실제 데이터와 예측 데이터를 비교해보자.\n",
        "# plt.plot(y_test, y_pred, '.')\n",
        "\n",
        "plt.scatter(X_test, y_test,  color='black')\n",
        "plt.plot(X_test, y_pred, color='blue', linewidth=3)\n",
        "plt.show()"
      ],
      "metadata": {
        "id": "rNLSiIF8eVoi"
      },
      "execution_count": null,
      "outputs": []
    },
    {
      "cell_type": "code",
      "source": [
        "import numpy as np\n",
        "import matplotlib.pyplot as plt\n",
        "\n",
        "X = np.linspace(0, 10, 100)\n",
        "y = X*0.9+np.random.randn(100)\n",
        "\n",
        "w = 0       # 기울기\n",
        "b = 0       # 절편\n",
        "\n",
        "lrate = 0.01  # 학습률\n",
        "epochs = 20000  # 반복 횟수\n",
        "\n",
        "n = float(len(X)) # 입력 데이터의 개수\n",
        "\n",
        "# 경사 하강법\n",
        "for i in range(epochs):\n",
        "    y_pred = w*X + b  \t\t\t# 선형 회귀 예측값\n",
        "    dw = (2/n) * sum(X * (y_pred-y)) \t# 넘파이 배열간의 산술 계산은 요소별로 적용\n",
        "    db = (2/n) * sum(y_pred-y)  \t# sum()은 모든 요소들의 합을 계산하는 내장 함수\n",
        "    w = w - lrate * dw  \t\t# 기울기 수정\n",
        "    b = b - lrate * db  \t\t# 절편 수정\n",
        "\n",
        "# 기울기와 절편을 출력한다.\n",
        "print (w, b)\n",
        "\n",
        "# 예측값을 만든다.\n",
        "y_pred = w*X + b\n",
        "\n",
        "# 입력 데이터를 그래프 상에 찍는다.\n",
        "plt.scatter(X, y)\n",
        "\n",
        "# 예측값은 선그래프로 그린다.\n",
        "plt.plot([min(X), max(X)], [min(y_pred), max(y_pred)], color='red')\n",
        "plt.show()"
      ],
      "metadata": {
        "colab": {
          "base_uri": "https://localhost:8080/",
          "height": 447
        },
        "id": "SB9KO77Pe2vx",
        "outputId": "cdde7b64-28c6-4f87-ebf0-03c322feeb7d"
      },
      "execution_count": null,
      "outputs": [
        {
          "output_type": "stream",
          "name": "stdout",
          "text": [
            "0.8778829858658509 0.0926796835705983\n"
          ]
        },
        {
          "output_type": "display_data",
          "data": {
            "text/plain": [
              "<Figure size 640x480 with 1 Axes>"
            ],
            "image/png": "[encoded data removed]"
          },
          "metadata": {}
        }
      ]
    }
  ]
}