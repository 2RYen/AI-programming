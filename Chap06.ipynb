{
  "nbformat": 4,
  "nbformat_minor": 0,
  "metadata": {
    "colab": {
      "provenance": []
    },
    "kernelspec": {
      "name": "python3",
      "display_name": "Python 3"
    },
    "language_info": {
      "name": "python"
    }
  },
  "cells": [
    {
      "cell_type": "code",
      "source": [
        "import numpy as np\n",
        "import matplotlib.pyplot as plt\n",
        "\n",
        "def step(x):\n",
        "\tresult = x > 0.000001\t\t# True 또는 False\n",
        "\treturn result.astype(np.int)\t# 정수로 반환"
      ],
      "metadata": {
        "id": "XQZNyL8zXlge"
      },
      "execution_count": 1,
      "outputs": []
    },
    {
      "cell_type": "code",
      "source": [
        "x = np.arange(-10.0, 10.0, 0.1)\n",
        "y = step(x)\n",
        "plt.plot(x, y)\n",
        "plt.show()"
      ],
      "metadata": {
        "id": "dddj3uZzZB93"
      },
      "execution_count": null,
      "outputs": []
    },
    {
      "cell_type": "code",
      "source": [
        "import numpy as np\n",
        "import matplotlib.pyplot as plt\n",
        "\n",
        "def sigmoid(x):\n",
        "\treturn 1.0 / (1.0 + np.exp(-x))\n",
        "\n",
        "x = np.arange(-10.0, 10.0, 0.1)\n",
        "y = sigmoid(x)\n",
        "plt.plot(x, y)\n",
        "plt.show()"
      ],
      "metadata": {
        "id": "JK_t3h_wY9dU"
      },
      "execution_count": null,
      "outputs": []
    },
    {
      "cell_type": "code",
      "source": [
        "import numpy as np\n",
        "import matplotlib.pyplot as plt\n",
        "\n",
        "x = np.linspace(-np.pi, np.pi, 60)\n",
        "y = np.tanh(x)\n",
        "plt.plot(x, y)\n",
        "plt.show()"
      ],
      "metadata": {
        "id": "rrkMTiM8Y5oS"
      },
      "execution_count": null,
      "outputs": []
    },
    {
      "cell_type": "code",
      "source": [
        "import numpy as np\n",
        "import matplotlib.pyplot as plt\n",
        "\n",
        "def relu(x):\n",
        "\treturn np.maximum(x, 0)\n",
        "\n",
        "x = np.arange(-10.0, 10.0, 0.1)\n",
        "y = relu(x)\n",
        "plt.plot(x, y)\n",
        "plt.show()"
      ],
      "metadata": {
        "id": "XnTsWNztZK0t"
      },
      "execution_count": null,
      "outputs": []
    },
    {
      "cell_type": "code",
      "source": [
        "import numpy as np\n",
        "\n",
        "# 시그모이드 함수\n",
        "def actf(x):\n",
        "\treturn 1/(1+np.exp(-x))\n",
        "\n",
        "# 시그모이드 함수의 미분치\n",
        "def actf_deriv(x):\n",
        "\t    return x*(1-x)\n",
        "\n",
        "# 입력유닛의 개수, 은닉유닛의 개수, 출력유닛의 개수\n",
        "inputs, hiddens, outputs = 2, 2, 1\n",
        "learning_rate=0.2\n",
        "\n",
        "# 훈련 샘플과 정답\n",
        "X = np.array([[0, 0], [0, 1], [1, 0], [1, 1]])\n",
        "T = np.array([[0], [1], [1], [0]])"
      ],
      "metadata": {
        "id": "dsKhorawXqYw"
      },
      "execution_count": 6,
      "outputs": []
    },
    {
      "cell_type": "code",
      "source": [
        "W1 = np.array([[0.10, 0.20],\n",
        "                 [0.30, 0.40]])\n",
        "W2 = np.array([[0.50], [0.60]])\n",
        "B1 = np.array([0.1, 0.2])\n",
        "B2 = np.array([0.3])\n",
        "\n",
        "# 순방향 전파 계산\n",
        "def predict(x):\n",
        "        layer0 = x\t\t\t# 입력을 layer0에 대입한다.\n",
        "        Z1 = np.dot(layer0, W1)+B1\t# 행렬의 곱을 계산한다.\n",
        "        layer1 = actf(Z1)\t\t# 활성화 함수를 적용한다.\n",
        "        Z2 = np.dot(layer1, W2)+B2\t# 행렬의 곱을 계산한다.\n",
        "        layer2 = actf(Z2)\t\t# 활성화 함수를 적용한다.\n",
        "        return layer0, layer1, layer2"
      ],
      "metadata": {
        "id": "zXMP2DPjZStM"
      },
      "execution_count": 7,
      "outputs": []
    },
    {
      "cell_type": "code",
      "source": [
        "def test():\n",
        "    for x, y in zip(X, T):\n",
        "        x = np.reshape(x, (1, -1))\t# x를 2차원 행렬로 만든다.입력은 2차원이어야 한다.\n",
        "        layer0, layer1, layer2 = predict(x)\n",
        "        print(x, y, layer2)\n",
        "test()"
      ],
      "metadata": {
        "id": "UqzDNiC1ZXJ-"
      },
      "execution_count": null,
      "outputs": []
    },
    {
      "cell_type": "code",
      "source": [
        "import numpy as np\n",
        "\n",
        "def MSE(target, y):\n",
        "\treturn 0.5 * np.sum((y-target)**2)\n",
        "\n",
        "y = np.array([ 0.0, 0.0, 0.8, 0.1, 0.0, 0.0, 0.0, 0.1, 0.0, 0.0 ])\n",
        "target = np.array([ 0.0, 0.0, 1.0, 0.0, 0.0, 0.0, 0.0, 0.0, 0.0, 0.0 ])\n",
        "print(MSE(target, y))"
      ],
      "metadata": {
        "id": "ITHjDrqBXzZj"
      },
      "execution_count": null,
      "outputs": []
    },
    {
      "cell_type": "code",
      "source": [
        "target = np.array([ 0.0, 0.0, 1.0, 0.0, 0.0, 0.0, 0.0, 0.0, 0.0, 0.0 ])\n",
        "y = np.array([ 0.9, 0.0, 0.1, 0.0, 0.0, 0.0, 0.0, 0.0, 0.0, 0.0 ] )\n",
        "print(MSE(target, y))"
      ],
      "metadata": {
        "id": "4SN7jtjFaupQ"
      },
      "execution_count": null,
      "outputs": []
    },
    {
      "cell_type": "code",
      "source": [
        "import numpy as np\n",
        "import matplotlib.pyplot as plt\n",
        "\n",
        "x = 10\n",
        "learning_rate = 0.2\n",
        "precision = 0.00001\n",
        "max_iterations = 100\n",
        "\n",
        "# 손실함수를 람다식으로 정의한다.\n",
        "loss_func = lambda x: (x-3)**2 + 10\n",
        "\n",
        "# 그래디언트를 람다식으로 정의한다. 손실함수의 1차 미분값이다.\n",
        "gradient = lambda x: 2*x-6\n",
        "\n",
        "list1 = []\n",
        "list2 = []\n",
        "\n",
        "# 그래디언트 강하법\n",
        "for i in range(max_iterations):\n",
        "    x = x - learning_rate * gradient(x)\n",
        "    list1.append(x)\n",
        "    list2.append(loss_func(x))\n",
        "    print(\"손실함수값(\", x, \")=\", loss_func(x))\n",
        "\n",
        "print(\"최소값 = \", x)\n",
        "\n",
        "x1 = np.linspace(0.0, 10.0)\n",
        "y1 = loss_func(x1)\n",
        "fig, ax = plt.subplots()  # Create a figure containing a single axes.\n",
        "ax.plot(x1,y1)  # Plot some data on the axes.\n",
        "ax.plot(list1,list2, '*')  # Plot some data on the axes."
      ],
      "metadata": {
        "id": "wwiklwHeXtZq"
      },
      "execution_count": null,
      "outputs": []
    },
    {
      "cell_type": "code",
      "source": [
        "from mpl_toolkits.mplot3d import axes3d\n",
        "import matplotlib.pyplot as plt\n",
        "import numpy as np\n",
        "\n",
        "x = np.arange(-5, 5, 0.5)\n",
        "y = np.arange(-5, 5, 0.5)\n",
        "X, Y = np.meshgrid(x, y)\t# 참고 박스\n",
        "Z = X**2 +Y**2\t\t\t# 넘파이 연산\n",
        "\n",
        "fig = plt.figure(figsize=(6,6))\n",
        "ax = fig.add_subplot(111, projection='3d')\n",
        "\n",
        "# 3차원 그래프를 그린다.\n",
        "ax.plot_surface(X, Y, Z)\n",
        "plt.show()"
      ],
      "metadata": {
        "id": "ux8zIIR_XwzR"
      },
      "execution_count": null,
      "outputs": []
    },
    {
      "cell_type": "code",
      "source": [
        "import matplotlib.pyplot as plt\n",
        "import numpy as np\n",
        "\n",
        "x = np.arange(-5,5,0.5)\n",
        "y = np.arange(-5,5,0.5)\n",
        "X, Y = np.meshgrid(x,y)\n",
        "U = -2*X\n",
        "V = -2*Y\n",
        "\n",
        "plt.figure()\n",
        "Q = plt.quiver(X, Y, U, V, units='width')\n",
        "plt.show()"
      ],
      "metadata": {
        "id": "mWVzfCYbaNZu"
      },
      "execution_count": null,
      "outputs": []
    },
    {
      "cell_type": "code",
      "source": [
        "import numpy as np\n",
        "\n",
        "# 시그모이드 함수\n",
        "def actf(x):\n",
        "\treturn 1/(1+np.exp(-x))\n",
        "\n",
        "# 시그모이드 함수의 미분치\n",
        "def actf_deriv(x):\n",
        "\t    return x*(1-x)\n",
        "\n",
        "# 입력유닛의 개수, 은닉유닛의 개수, 출력유닛의 개수\n",
        "inputs, hiddens, outputs = 2, 2, 1\n",
        "learning_rate=0.2\n",
        "\n",
        "# 훈련 샘플과 정답\n",
        "X = np.array([[0, 0], [0, 1], [1, 0], [1, 1]])\n",
        "T = np.array([[1], [0], [0], [1]])"
      ],
      "metadata": {
        "id": "ow5aOLpXX6BV"
      },
      "execution_count": 15,
      "outputs": []
    },
    {
      "cell_type": "code",
      "source": [
        "W1 = np.array([[0.10,0.20], [0.30,0.40]])\n",
        "W2 = np.array([[0.50],[0.60]])\n",
        "B1 = np.array([0.1, 0.2])\n",
        "B2 = np.array([0.3])\n",
        "\n",
        "# 순방향 전파 계산\n",
        "def predict(x):\n",
        "        layer0 = x\t\t\t# 입력을 layer0에 대입한다.\n",
        "        Z1 = np.dot(layer0, W1)+B1\t# 행렬의 곱을 계산한다.\n",
        "        layer1 = actf(Z1)\t\t# 활성화 함수를 적용한다.\n",
        "        Z2 = np.dot(layer1, W2)+B2\t# 행렬의 곱을 계산한다.\n",
        "        layer2 = actf(Z2)\t\t# 활성화 함수를 적용한다.\n",
        "        return layer0, layer1, layer2"
      ],
      "metadata": {
        "id": "MtoQ-XwUZ2mf"
      },
      "execution_count": 16,
      "outputs": []
    },
    {
      "cell_type": "code",
      "source": [
        "# 역방향 전파 계산\n",
        "def fit():\n",
        "    global W1, W2, B1, B2\t\t# 우리는 외부에 정의된 변수를 변경해야 한다.\n",
        "    for i in range(90000):\t\t# 9만번 반복한다.\n",
        "        for x, y in zip(X, T):\t\t# 학습 샘플을 하나씩 꺼낸다.\n",
        "            x = np.reshape(x, (1, -1))\t# 2차원 행렬로 만든다. ①\n",
        "            y = np.reshape(y, (1, -1))\t# 2차원 행렬로 만든다.\n",
        "\n",
        "            layer0, layer1, layer2 = predict(x)\t\t\t# 순방향 계산\n",
        "            layer2_error = layer2-y\t\t\t\t# 오차 계산\n",
        "            layer2_delta = layer2_error*actf_deriv(layer2)\t# 출력층의 델타 계산\n",
        "            layer1_error = np.dot(layer2_delta, W2.T)\t\t# 은닉층의 오차 계산 ②\n",
        "            layer1_delta = layer1_error*actf_deriv(layer1)\t# 은닉층의 델타 계산 ③\n",
        "\n",
        "            W2 += -learning_rate*np.dot(layer1.T, layer2_delta)\t# ④\n",
        "            W1 += -learning_rate*np.dot(layer0.T, layer1_delta)\t#\n",
        "            B2 += -learning_rate*np.sum(layer2_delta, axis=0)\t# ⑤\n",
        "            B1 += -learning_rate*np.sum(layer1_delta, axis=0)\t#"
      ],
      "metadata": {
        "id": "z3s5J9DYZ8O3"
      },
      "execution_count": 17,
      "outputs": []
    },
    {
      "cell_type": "code",
      "source": [
        "def test():\n",
        "    for x, y in zip(X, T):\n",
        "        x = np.reshape(x, (1, -1))\t# 하나의 샘플을 꺼내서 2차원 행렬로 만든다.\n",
        "        layer0, layer1, layer2 = predict(x)\n",
        "        print(x, y, layer2)\t\t# 출력층의 값을 출력해본다.\n",
        "fit()\n",
        "test()"
      ],
      "metadata": {
        "id": "KB0j9-GBaAzm"
      },
      "execution_count": null,
      "outputs": []
    }
  ]
}